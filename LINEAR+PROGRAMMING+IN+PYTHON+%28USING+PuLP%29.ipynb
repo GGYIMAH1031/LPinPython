{
 "cells": [
  {
   "cell_type": "markdown",
   "metadata": {
    "collapsed": true
   },
   "source": [
    "# Linear Programming In Python (using PuLP)"
   ]
  },
  {
   "cell_type": "code",
   "execution_count": 1,
   "metadata": {
    "collapsed": true
   },
   "outputs": [],
   "source": [
    "# Let's implement this tutorial using the following example problem:\n",
    "\n",
    "# Company X decides to add two new products to its building product collection: Doors and Windows\n",
    "# The unit profit for the Doors and Windows are $300 and $500 respectively.\n",
    "# The company has 3 plants with production times as follows:\n",
    "\n",
    "               # PRODUCTION TIMES PER UNIT\n",
    "    \n",
    "    # PLANT     DOORS       WINDOWS    AVAILABILITY/WEEK\n",
    "     # 1       1 hour          0            4 hours\n",
    "    # 2          0          2 hours        12 hours\n",
    "     # 3       3 hours      2 hours        18 hours\n",
    "\n",
    "# Determine the product mix which maximizes the company's weekly profits\n"
   ]
  },
  {
   "cell_type": "code",
   "execution_count": 2,
   "metadata": {
    "collapsed": true
   },
   "outputs": [],
   "source": [
    "# We first import PuLP"
   ]
  },
  {
   "cell_type": "code",
   "execution_count": 3,
   "metadata": {
    "collapsed": true
   },
   "outputs": [],
   "source": [
    "import pulp"
   ]
  },
  {
   "cell_type": "code",
   "execution_count": 4,
   "metadata": {
    "collapsed": true
   },
   "outputs": [],
   "source": [
    "# Let's create a class and name it 'LP_Solution'. We'll use LPMaximize since we're seeking to maximize profits."
   ]
  },
  {
   "cell_type": "code",
   "execution_count": 5,
   "metadata": {
    "collapsed": true
   },
   "outputs": [],
   "source": [
    "LP_Solution = pulp.LpProblem(\"My LP Solution\",pulp.LpMaximize)"
   ]
  },
  {
   "cell_type": "code",
   "execution_count": 6,
   "metadata": {
    "collapsed": true
   },
   "outputs": [],
   "source": [
    "# Let's use LpVariable to define our decision variables: D for Doors and W for Windows. \n",
    "# Since W & D can't be negative, lower bound = 0 "
   ]
  },
  {
   "cell_type": "code",
   "execution_count": 7,
   "metadata": {
    "collapsed": true
   },
   "outputs": [],
   "source": [
    "D = pulp.LpVariable('D', lowBound=0, cat='Continuous')\n",
    "W = pulp.LpVariable('W', lowBound=0, cat='Continuous')"
   ]
  },
  {
   "cell_type": "code",
   "execution_count": 8,
   "metadata": {
    "collapsed": true
   },
   "outputs": [],
   "source": [
    "# Our problem objective is to maximize weekly profits\n",
    "# Let's add our objective function to 'LP_Solution'"
   ]
  },
  {
   "cell_type": "code",
   "execution_count": 9,
   "metadata": {
    "collapsed": true
   },
   "outputs": [],
   "source": [
    "# Objective function\n",
    "LP_Solution += 300*D + 500*W, \"Ex\" "
   ]
  },
  {
   "cell_type": "code",
   "execution_count": 10,
   "metadata": {
    "collapsed": true
   },
   "outputs": [],
   "source": [
    "# Then we'll add the constraints"
   ]
  },
  {
   "cell_type": "code",
   "execution_count": 11,
   "metadata": {
    "collapsed": true
   },
   "outputs": [],
   "source": [
    "# Constraints\n",
    "LP_Solution += D <= 4\n",
    "LP_Solution += W <= 6\n",
    "LP_Solution += 3*D + 2*W <= 18"
   ]
  },
  {
   "cell_type": "code",
   "execution_count": 12,
   "metadata": {
    "collapsed": true
   },
   "outputs": [],
   "source": [
    "# Let's display our problem definition, LP_Solution:"
   ]
  },
  {
   "cell_type": "code",
   "execution_count": 13,
   "metadata": {
    "collapsed": false
   },
   "outputs": [
    {
     "data": {
      "text/plain": [
       "My LP Solution:\n",
       "MAXIMIZE\n",
       "300*D + 500*W + 0\n",
       "SUBJECT TO\n",
       "_C1: D <= 4\n",
       "\n",
       "_C2: W <= 6\n",
       "\n",
       "_C3: 3 D + 2 W <= 18\n",
       "\n",
       "VARIABLES\n",
       "D Continuous\n",
       "W Continuous"
      ]
     },
     "execution_count": 13,
     "metadata": {},
     "output_type": "execute_result"
    }
   ],
   "source": [
    "LP_Solution"
   ]
  },
  {
   "cell_type": "code",
   "execution_count": 14,
   "metadata": {
    "collapsed": true
   },
   "outputs": [],
   "source": [
    "#Let's display the status of our solver.\n",
    "# Possible status codes are: 'Not Solved', 'Optimal', 'Infeasible', 'Unbounded', 'Undefined'"
   ]
  },
  {
   "cell_type": "code",
   "execution_count": 15,
   "metadata": {
    "collapsed": false
   },
   "outputs": [
    {
     "data": {
      "text/plain": [
       "'Optimal'"
      ]
     },
     "execution_count": 15,
     "metadata": {},
     "output_type": "execute_result"
    }
   ],
   "source": [
    "LP_Solution.solve()\n",
    "pulp.LpStatus[LP_Solution.status]"
   ]
  },
  {
   "cell_type": "code",
   "execution_count": 16,
   "metadata": {
    "collapsed": true
   },
   "outputs": [],
   "source": [
    "# Now, let's retrieve the values of the variables using varValue:"
   ]
  },
  {
   "cell_type": "code",
   "execution_count": 17,
   "metadata": {
    "collapsed": false
   },
   "outputs": [
    {
     "name": "stdout",
     "output_type": "stream",
     "text": [
      "D=2.0\n",
      "W=6.0\n"
     ]
    }
   ],
   "source": [
    "for variable in LP_Solution.variables():\n",
    "    print \"{}={}\".format(variable.name, variable.varValue)"
   ]
  },
  {
   "cell_type": "code",
   "execution_count": 18,
   "metadata": {
    "collapsed": true
   },
   "outputs": [],
   "source": [
    "# Now, let's display our solution objective (i.e. maximize weekly profits)"
   ]
  },
  {
   "cell_type": "code",
   "execution_count": 19,
   "metadata": {
    "collapsed": false
   },
   "outputs": [
    {
     "name": "stdout",
     "output_type": "stream",
     "text": [
      "3600.0\n"
     ]
    }
   ],
   "source": [
    "print pulp.value(LP_Solution.objective)"
   ]
  },
  {
   "cell_type": "code",
   "execution_count": null,
   "metadata": {
    "collapsed": true
   },
   "outputs": [],
   "source": []
  }
 ],
 "metadata": {
  "anaconda-cloud": {},
  "kernelspec": {
   "display_name": "Python 2",
   "language": "python",
   "name": "python2"
  },
  "language_info": {
   "codemirror_mode": {
    "name": "ipython",
    "version": 2
   },
   "file_extension": ".py",
   "mimetype": "text/x-python",
   "name": "python",
   "nbconvert_exporter": "python",
   "pygments_lexer": "ipython2",
   "version": "2.7.12"
  }
 },
 "nbformat": 4,
 "nbformat_minor": 0
}
